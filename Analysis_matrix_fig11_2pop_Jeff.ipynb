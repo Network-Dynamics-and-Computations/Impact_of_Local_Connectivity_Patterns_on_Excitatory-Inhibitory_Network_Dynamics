{
 "cells": [
  {
   "cell_type": "code",
   "execution_count": 1,
   "metadata": {},
   "outputs": [],
   "source": [
    "%matplotlib qt5\n",
    "import numpy as np\n",
    "from numpy import linalg as la\n",
    "import matplotlib.pylab as plt\n",
    "from scipy.optimize import fsolve\n",
    "import math\n",
    "import statsmodels.api as sm\n",
    "from scipy.stats import norm\n",
    "import seaborn as sns\n",
    "from scipy import stats\n",
    "from matplotlib.patches import Ellipse\n",
    "import matplotlib.transforms as transforms"
   ]
  },
  {
   "cell_type": "code",
   "execution_count": 2,
   "metadata": {},
   "outputs": [],
   "source": [
    "import scipy\n",
    "from functools import partial\n",
    "def odeIntegral(x,t,J,I=0):\n",
    "    x = np.squeeze(x)\n",
    "    x = np.reshape(x,(len(x),1))\n",
    "    # dxdt = -x+J@np.tanh(x)#+I[0]\n",
    "    dxdt = -x+J@x+I[0]\n",
    "    return np.squeeze(dxdt)\n",
    "def odesimulation(t,xinit,Jpt,I):\n",
    "\treturn scipy.integrate.odeint(partial(odeIntegral,J=Jpt,I=I),xinit,t)"
   ]
  },
  {
   "cell_type": "code",
   "execution_count": 4,
   "metadata": {},
   "outputs": [
    {
     "name": "stdout",
     "output_type": "stream",
     "text": [
      "e:\\Dropbox\\DailyWork\\Allen_project\\Preparation_Paper_Figures\\PRX_prune\\PRX_numeric\\LocalChainMotifs_ParadoxicalEffect\n",
      "ce and ci: 0.2 0.2\n",
      "eigvJ0: (-0.3899999999999837+0j)  theory: -0.39000000000000024\n",
      "JE: 0.7799999999999999 JI: 1.1700000000000002\n"
     ]
    }
   ],
   "source": [
    "''' Parameters used for all networks (reciprocal and chain)'''\n",
    "### get the current path location and read the data file\n",
    "import os\n",
    "strr= os.getcwd()\n",
    "print(strr)\n",
    "\n",
    "### define the network parameters of the adjacency matrix\n",
    "N  = 1500\n",
    "Kt = int(N*0.2)\n",
    "J = 1/np.sqrt(N)*0.5  ### TODO: make sure this scalar with David&Stefano's paper\n",
    "J = 0.00325\n",
    "ntau   = 10\n",
    "trials = 30+6\n",
    "tau_series = np.linspace(0,0.15,ntau)#\n",
    "htau = tau_series[1]-tau_series[0]\n",
    "### simulation using the low-rank framework\n",
    "firing_rateeq = np.zeros((trials,ntau,N))\n",
    "\n",
    "g, gamma =  6, 1/4.0\n",
    "NE = int(N/(1+gamma))\n",
    "NI = N-NE#NE*gamma\n",
    "N  = NE+NI ### update \n",
    "ALPHAE, ALPHAI = NE/N, NI/N\n",
    "KE, KI = int(Kt/(1+gamma)), int(Kt/(1+gamma)*gamma) ### fixed out-degree\n",
    "ce, ci = KE/NE, KI/NI\n",
    "print('ce and ci:',ce,ci)\n",
    "### assert that the differences between ce and ci are smaller than epsilon\n",
    "epsilon = 1E-2\n",
    "assert np.abs(ce-ci)<epsilon\n",
    "# assert ce==ci\n",
    "c = ce\n",
    "ji,je = g*J,J \n",
    "### define the network parameters of the diluted Gaussian matrix \n",
    "ge, gi = np.sqrt(je**2*c*(1-c)*N), np.sqrt(ji**2*c*(1-c)*N) \n",
    "hat_sigmae, hat_sigmai = np.sqrt(c*(1-c)), np.sqrt(c*(1-c))### standard deviation of the adjacency matrix\n",
    "sigmae,sigmai = np.sqrt(c*(1-c)*J**2*N), np.sqrt(c*(1-c)*(-g*J)**2*N)### with magnitude of the coupling\n",
    "JE,JI = je*c*NE, ji*c*NI \n",
    "lambda0 = JE-JI \n",
    "### mean connectivity\n",
    "nvec, mvec = np.zeros((N,1)), np.ones((N,1))\n",
    "nvec[:NE,0], nvec[NE:,0] = N*JE/NE, -N*JI/NI\n",
    "Jbar = mvec@nvec.T/N \n"
   ]
  },
  {
   "cell_type": "code",
   "execution_count": 4,
   "metadata": {},
   "outputs": [
    {
     "name": "stdout",
     "output_type": "stream",
     "text": [
      "eigvJ0: (-0.3899999999999837+0j)  theory: -0.39000000000000024\n",
      "DeltaZ2E,DeltaZ2I: -1.690000000000001e-05 0.00010140000000000003\n"
     ]
    }
   ],
   "source": [
    "### mean connectivity\n",
    "nvec, mvec = np.zeros((N,1)), np.ones((N,1))\n",
    "nvec[:NE,0], nvec[NE:,0] = N*JE/NE, -N*JI/NI\n",
    "Jbar = mvec@nvec.T/N \n",
    "## TEST THE EIGENVALUES OF THE MEAN MATRIX \n",
    "eigvJ0, eigvecJ0 = la.eig(Jbar)\n",
    "print('eigvJ0:',eigvJ0[0],' theory:',JE-JI)"
   ]
  },
  {
   "cell_type": "code",
   "execution_count": 5,
   "metadata": {},
   "outputs": [],
   "source": [
    "import scipy\n",
    "from functools import partial\n",
    "def odeIntegral(x,t,J,I=0):\n",
    "    x = np.squeeze(x)\n",
    "    x = np.reshape(x,(len(x),1))\n",
    "    # dxdt = -x+J@np.tanh(x)#+I[0]\n",
    "    dxdt = -x+J@x+I[0]\n",
    "    return np.squeeze(dxdt)\n",
    "def odesimulation(t,xinit,Jpt,I):\n",
    "\treturn scipy.integrate.odeint(partial(odeIntegral,J=Jpt,I=I),xinit,t)\n",
    "shiftx = 1.5\n",
    "def odeIntegralP(x,t,J,I=0):\n",
    "\tx = np.squeeze(x)\n",
    "\tx = np.reshape(x,(len(x),1))\n",
    "\t# print('size:',np.shape(x),np.shape(J@np.tanh(x)))\n",
    "\tdxdt = -x+J@(1.0+np.tanh(x-shiftx))\n",
    "\treturn np.squeeze(dxdt)\n",
    "def odesimulationP(t,xinit,Jpt,I):\n",
    "\treturn scipy.integrate.odeint(partial(odeIntegralP,J=Jpt,I=I),xinit,t)"
   ]
  },
  {
   "cell_type": "code",
   "execution_count": 6,
   "metadata": {},
   "outputs": [],
   "source": [
    "#### constant and deterministic input signal\n",
    "Inp   = np.squeeze(np.ones((N,1)))/np.sqrt(N) \n",
    "Ipert = np.squeeze(np.ones((N,1)))/np.sqrt(N) \n",
    "# Ipert[NE:]=0 ### only perturb the excitatory population\n",
    "Ipert[:NE]=0 ### only perturb the inhibitory population\n",
    "tt = np.linspace(0,200,1000)"
   ]
  },
  {
   "cell_type": "code",
   "execution_count": 7,
   "metadata": {},
   "outputs": [
    {
     "name": "stdout",
     "output_type": "stream",
     "text": [
      "[0.01853083 0.0185637 ]\n"
     ]
    }
   ],
   "source": [
    "### generate i.i.d. s\n",
    "def randbin(M,N,P):  \n",
    "    return np.random.choice([0, 1], size=(M,N), p=[P, 1-P])"
   ]
  },
  {
   "cell_type": "code",
   "execution_count": 8,
   "metadata": {},
   "outputs": [
    {
     "name": "stdout",
     "output_type": "stream",
     "text": [
      "it,iti: 0 0\n",
      "it,iti: 0 1\n",
      "it,iti: 0 2\n",
      "it,iti: 0 3\n",
      "it,iti: 0 4\n",
      "it,iti: 0 5\n",
      "it,iti: 0 6\n",
      "it,iti: 0 7\n",
      "it,iti: 0 8\n",
      "it,iti: 0 9\n",
      "it,iti: 0 10\n",
      "it,iti: 0 11\n",
      "it,iti: 0 12\n",
      "it,iti: 0 13\n",
      "it,iti: 0 14\n",
      "it,iti: 0 15\n",
      "it,iti: 0 16\n",
      "it,iti: 0 17\n",
      "it,iti: 0 18\n",
      "it,iti: 1 0\n",
      "it,iti: 1 1\n",
      "it,iti: 1 2\n",
      "it,iti: 1 3\n",
      "it,iti: 1 4\n",
      "it,iti: 1 5\n",
      "it,iti: 1 6\n",
      "it,iti: 1 7\n",
      "it,iti: 1 8\n",
      "it,iti: 1 9\n",
      "it,iti: 1 10\n",
      "it,iti: 1 11\n",
      "it,iti: 1 12\n",
      "it,iti: 1 13\n",
      "it,iti: 1 14\n",
      "it,iti: 1 15\n",
      "it,iti: 1 16\n",
      "it,iti: 1 17\n",
      "it,iti: 1 18\n",
      "it,iti: 2 0\n",
      "it,iti: 2 1\n",
      "it,iti: 2 2\n",
      "it,iti: 2 3\n",
      "it,iti: 2 4\n",
      "it,iti: 2 5\n",
      "it,iti: 2 6\n",
      "it,iti: 2 7\n",
      "it,iti: 2 8\n",
      "it,iti: 2 9\n",
      "it,iti: 2 10\n",
      "it,iti: 2 11\n",
      "it,iti: 2 12\n",
      "it,iti: 2 13\n",
      "it,iti: 2 14\n",
      "it,iti: 2 15\n",
      "it,iti: 2 16\n",
      "it,iti: 2 17\n",
      "it,iti: 2 18\n",
      "it,iti: 3 0\n",
      "it,iti: 3 1\n",
      "it,iti: 3 2\n",
      "it,iti: 3 3\n",
      "it,iti: 3 4\n",
      "it,iti: 3 5\n",
      "it,iti: 3 6\n",
      "it,iti: 3 7\n",
      "it,iti: 3 8\n",
      "it,iti: 3 9\n",
      "it,iti: 3 10\n",
      "it,iti: 3 11\n",
      "it,iti: 3 12\n",
      "it,iti: 3 13\n",
      "it,iti: 3 14\n",
      "it,iti: 3 15\n",
      "it,iti: 3 16\n",
      "it,iti: 3 17\n",
      "it,iti: 3 18\n",
      "it,iti: 4 0\n",
      "it,iti: 4 1\n",
      "it,iti: 4 2\n",
      "it,iti: 4 3\n",
      "it,iti: 4 4\n",
      "it,iti: 4 5\n",
      "it,iti: 4 6\n",
      "it,iti: 4 7\n",
      "it,iti: 4 8\n",
      "it,iti: 4 9\n",
      "it,iti: 4 10\n",
      "it,iti: 4 11\n",
      "it,iti: 4 12\n",
      "it,iti: 4 13\n",
      "it,iti: 4 14\n",
      "it,iti: 4 15\n",
      "it,iti: 4 16\n",
      "it,iti: 4 17\n",
      "it,iti: 4 18\n",
      "it,iti: 5 0\n",
      "it,iti: 5 1\n",
      "it,iti: 5 2\n",
      "it,iti: 5 3\n",
      "it,iti: 5 4\n",
      "it,iti: 5 5\n",
      "it,iti: 5 6\n",
      "it,iti: 5 7\n",
      "it,iti: 5 8\n",
      "it,iti: 5 9\n",
      "it,iti: 5 10\n",
      "it,iti: 5 11\n",
      "it,iti: 5 12\n",
      "it,iti: 5 13\n",
      "it,iti: 5 14\n",
      "it,iti: 5 15\n",
      "it,iti: 5 16\n",
      "it,iti: 5 17\n",
      "it,iti: 5 18\n",
      "it,iti: 6 0\n",
      "it,iti: 6 1\n",
      "it,iti: 6 2\n",
      "it,iti: 6 3\n",
      "it,iti: 6 4\n",
      "it,iti: 6 5\n",
      "it,iti: 6 6\n",
      "it,iti: 6 7\n",
      "it,iti: 6 8\n",
      "it,iti: 6 9\n",
      "it,iti: 6 10\n",
      "it,iti: 6 11\n",
      "it,iti: 6 12\n",
      "it,iti: 6 13\n",
      "it,iti: 6 14\n",
      "it,iti: 6 15\n",
      "it,iti: 6 16\n",
      "it,iti: 6 17\n",
      "it,iti: 6 18\n",
      "it,iti: 7 0\n",
      "it,iti: 7 1\n",
      "it,iti: 7 2\n",
      "it,iti: 7 3\n",
      "it,iti: 7 4\n",
      "it,iti: 7 5\n",
      "it,iti: 7 6\n",
      "it,iti: 7 7\n",
      "it,iti: 7 8\n",
      "it,iti: 7 9\n",
      "it,iti: 7 10\n",
      "it,iti: 7 11\n",
      "it,iti: 7 12\n",
      "it,iti: 7 13\n",
      "it,iti: 7 14\n",
      "it,iti: 7 15\n",
      "it,iti: 7 16\n",
      "it,iti: 7 17\n",
      "it,iti: 7 18\n",
      "it,iti: 8 0\n",
      "it,iti: 8 1\n",
      "it,iti: 8 2\n",
      "it,iti: 8 3\n",
      "it,iti: 8 4\n",
      "it,iti: 8 5\n",
      "it,iti: 8 6\n",
      "it,iti: 8 7\n",
      "it,iti: 8 8\n",
      "it,iti: 8 9\n",
      "it,iti: 8 10\n",
      "it,iti: 8 11\n",
      "it,iti: 8 12\n",
      "it,iti: 8 13\n",
      "it,iti: 8 14\n",
      "it,iti: 8 15\n",
      "it,iti: 8 16\n",
      "it,iti: 8 17\n",
      "it,iti: 8 18\n",
      "it,iti: 9 0\n",
      "it,iti: 9 1\n",
      "it,iti: 9 2\n",
      "it,iti: 9 3\n",
      "it,iti: 9 4\n",
      "it,iti: 9 5\n",
      "it,iti: 9 6\n",
      "it,iti: 9 7\n",
      "it,iti: 9 8\n",
      "it,iti: 9 9\n",
      "it,iti: 9 10\n",
      "it,iti: 9 11\n",
      "it,iti: 9 12\n",
      "it,iti: 9 13\n",
      "it,iti: 9 14\n",
      "it,iti: 9 15\n",
      "it,iti: 9 16\n",
      "it,iti: 9 17\n",
      "it,iti: 9 18\n"
     ]
    }
   ],
   "source": [
    "### simulation using the low-rank framework\n",
    "firing_rateEFF     = np.zeros((ntau,ntau*2-1,N))\n",
    "firing_rateEFFpert = np.zeros((ntau,ntau*2-1,N))\n",
    "\n",
    "z2 = np.zeros((N,N))\n",
    "for it, tau in enumerate(tau_series):# outer\n",
    "    for iti,taui in enumerate(tau_series[::-1]):\n",
    "        print('it,iti:',it,iti)\n",
    "        ### compute the square of the random connectivity \n",
    "        Z2E = N*J**2*hat_sigmae**2*tau*ALPHAE-N*g*J**2*hat_sigmae*hat_sigmai*taui*ALPHAI\n",
    "        Z2I = -N*g*J**2*hat_sigmae*hat_sigmai*taui*ALPHAE+N*g**2*J**2*hat_sigmai**2*tau*ALPHAI\n",
    "        z2[:,:NE], z2[:,NE:] = Z2E, Z2I\n",
    "        J_EFF = Jbar.copy()+z2.copy()\n",
    "\n",
    "        ### generate J connectivity matrix    \n",
    "        '''### full rank simulation'''\n",
    "        xinit = np.squeeze(np.random.normal(0, 1E-2, (1, N)))\n",
    "        xc_temporal = odesimulation(tt, xinit, J_EFF, Inp)\n",
    "        firing_rateEFF[it,iti,:] = xc_temporal[-1,:].copy()\n",
    "        '''### perturbation '''\n",
    "        xpert = xc_temporal[-1,:].copy()\n",
    "        xpert = xpert.reshape(-1,1)\n",
    "        dtt =tt[1]-tt[0]\n",
    "        for ttt in range(len(tt)):\n",
    "            delta_x= -xpert + J_EFF@xpert.reshape(-1,1)+Ipert.reshape(-1,1)+Inp.reshape(-1,1)\n",
    "            xpert = delta_x*dtt+xpert \n",
    "        firing_rateEFFpert[it,iti,:] = xpert.copy().squeeze()\n",
    "    \n",
    "    for iti,taui in enumerate(-tau_series[1:]):\n",
    "        print('it,iti:',it,iti+len(tau_series))\n",
    "        ### compute the square of the random connectivity \n",
    "        Z2E = N*J**2*hat_sigmae**2*tau*ALPHAE-N*g*J**2*hat_sigmae*hat_sigmai*taui*ALPHAI\n",
    "        Z2I = -N*g*J**2*hat_sigmae*hat_sigmai*taui*ALPHAE+N*g**2*J**2*hat_sigmai**2*tau*ALPHAI\n",
    "        z2[:,:NE], z2[:,NE:] = Z2E, Z2I\n",
    "        J_EFF = Jbar.copy()+z2.copy()\n",
    "\n",
    "        ### generate J connectivity matrix    \n",
    "        '''### full rank simulation'''\n",
    "        xinit = np.squeeze(np.random.normal(0, 1E-2, (1, N)))\n",
    "        xc_temporal = odesimulation(tt, xinit, J_EFF, Inp)\n",
    "        firing_rateEFF[it,iti+len(tau_series),:] = xc_temporal[-1,:].copy()\n",
    "        '''### perturbation '''\n",
    "        xpert = xc_temporal[-1,:].copy()\n",
    "        xpert = xpert.reshape(-1,1)\n",
    "        dtt =tt[1]-tt[0]\n",
    "        for ttt in range(len(tt)):\n",
    "            delta_x= -xpert + J_EFF@xpert.reshape(-1,1)+Ipert.reshape(-1,1)+Inp.reshape(-1,1)\n",
    "            xpert = delta_x*dtt+xpert \n",
    "        firing_rateEFFpert[it,iti+len(tau_series),:] = xpert.copy().squeeze()"
   ]
  },
  {
   "cell_type": "code",
   "execution_count": 9,
   "metadata": {},
   "outputs": [],
   "source": [
    "### simulation using the low-rank framework\n",
    "tau_inner = []\n",
    "for it, tau in enumerate(tau_series[:1]):# outer\n",
    "    for iti,taui in enumerate(tau_series[::-1]):\n",
    "        tau_inner.append(taui)\n",
    "    \n",
    "    for iti,taui in enumerate(-tau_series[1:]):\n",
    "        tau_inner.append(taui)"
   ]
  },
  {
   "cell_type": "code",
   "execution_count": 10,
   "metadata": {},
   "outputs": [],
   "source": [
    "### \n",
    "meanfr_eff      = np.zeros((ntau,2*ntau-1,2))\n",
    "meanfr_eff_pert = np.zeros((ntau,2*ntau-1,2))\n",
    "meanfr_eff[:,:,0] = np.mean(firing_rateEFF[:,:,:NE],axis=2)\n",
    "meanfr_eff[:,:,1] = np.mean(firing_rateEFF[:,:,NE:],axis=2)\n",
    "### same for pydll Creates ()\n",
    "meanfr_eff_pert[:,:,0] = np.mean(firing_rateEFFpert[:,:,:NE],axis=2)\n",
    "meanfr_eff_pert[:,:,1] = np.mean(firing_rateEFFpert[:,:,NE:],axis=2)\n",
    "### numerical response function \n",
    "response_func_eff = np.zeros((ntau,ntau*2-1,2))\n",
    "for it in range(ntau):\n",
    "    for iti in range(ntau*2-1):\n",
    "        response_func_eff[it,iti,0]=(meanfr_eff_pert[it,iti,0]-meanfr_eff[it,iti,0])/Ipert[-1]\n",
    "        response_func_eff[it,iti,1]=(meanfr_eff_pert[it,iti,1]-meanfr_eff[it,iti,1])/Ipert[-1]"
   ]
  },
  {
   "cell_type": "code",
   "execution_count": null,
   "metadata": {},
   "outputs": [],
   "source": [
    "response_func_eff_2D_binary = response_func_eff.copy()\n",
    "response_func_eff_2D_binary[response_func_eff_2D_binary>0]=1\n",
    "response_func_eff_2D_binary[response_func_eff_2D_binary<0]=-1\n",
    "# find the boundary of -1 and 1 \n",
    "boundary = np.zeros((ntau,2))\n",
    "for it in range(ntau):\n",
    "    for ipop in range(2):\n",
    "        boundary[it,ipop] = np.where(response_func_eff_2D_binary[it,:,ipop]==-1)[0][0]\n",
    "print(boundary)"
   ]
  },
  {
   "cell_type": "code",
   "execution_count": 24,
   "metadata": {},
   "outputs": [],
   "source": [
    "## imshow the response function response_func_eff_2D_binary\n",
    "fig,ax=plt.subplots(figsize=(8,6))\n",
    "cmap = sns.color_palette(\"coolwarm\", as_cmap=True)\n",
    "im=ax.imshow(response_func_eff[:,:,1],cmap=cmap,alpha=0.25,vmax=0.2,vmin=-0.2)\n",
    "plt.colorbar(im)\n",
    "plt.show()\n",
    "'''FLIP ALONG X-AXIS'''"
   ]
  },
  {
   "cell_type": "code",
   "execution_count": 13,
   "metadata": {},
   "outputs": [],
   "source": [
    "taus_boundary = [tau_inner[int(boundary[it,1])] for it in range(ntau)]"
   ]
  },
  {
   "cell_type": "markdown",
   "metadata": {},
   "source": [
    "Solve $\\chi_{II} = 0$ analytically"
   ]
  },
  {
   "cell_type": "code",
   "execution_count": 14,
   "metadata": {},
   "outputs": [
    {
     "name": "stdout",
     "output_type": "stream",
     "text": [
      "tau_outer: 0.0 tau_inner: -0.06212121212121212\n",
      "tau_outer: 0.016666666666666666 tau_inner: -0.04999999999999999\n",
      "tau_outer: 0.03333333333333333 tau_inner: -0.04090909090909091\n",
      "tau_outer: 0.05 tau_inner: -0.02878787878787878\n",
      "tau_outer: 0.06666666666666667 tau_inner: -0.016666666666666663\n",
      "tau_outer: 0.08333333333333333 tau_inner: -0.007575757575757569\n",
      "tau_outer: 0.1 tau_inner: 0.004545454545454547\n",
      "tau_outer: 0.11666666666666667 tau_inner: 0.016666666666666663\n",
      "tau_outer: 0.13333333333333333 tau_inner: 0.025757575757575757\n",
      "tau_outer: 0.15 tau_inner: 0.03787878787878787\n"
     ]
    }
   ],
   "source": [
    "import scipy.linalg as linalg\n",
    "## find the tau_zero for response_inh = 0 \n",
    "def find_cross_paradoxical(x,tau_outer,N,NE,NI,J,hat_sigmae,hat_sigmai,ALPHAE,ALPHAI):\n",
    "    Z2E = N*J**2*hat_sigmae**2*tau_outer*ALPHAE-N*g*J**2*hat_sigmae*hat_sigmai*x*ALPHAI\n",
    "    Z2I = -N*g*J**2*hat_sigmae*hat_sigmai*x*ALPHAE+N*g**2*J**2*hat_sigmai**2*tau_outer*ALPHAI\n",
    "    z2 = np.zeros((N,N))\n",
    "    z2[:,:NE], z2[:,NE:] = Z2E, Z2I\n",
    "    J_EFF = Jbar.copy()+z2.copy()\n",
    "    # print(J_EFF[0,0],J_EFF[NE,NE],J_EFF[0,NE],J_EFF[NE,0])\n",
    "    \n",
    "    response_mtx = linalg.inv(np.eye(N)-J_EFF)\n",
    "    # print('response:',np.sum(response_mtx[NE,NE:]),np.sum(response_mtx[NE+10,NE:]))\n",
    "    return np.sum(response_mtx[NE,NE:])\n",
    "\n",
    "tau_x = np.zeros(ntau)\n",
    "tau_ss = np.linspace(-0.15,0.15,100)[::-1]\n",
    "for it, tau_outer in enumerate(tau_series):\n",
    "    prev_x = 100\n",
    "    for iti, tau_inner in enumerate(tau_ss):\n",
    "        x = find_cross_paradoxical(tau_inner,tau_outer,N,NE,NI,J,hat_sigmae,hat_sigmai,ALPHAE,ALPHAI)\n",
    "        if prev_x>0 and x<0:\n",
    "            tau_x[it] = tau_inner\n",
    "            print('tau_outer:',tau_outer,'tau_inner:',tau_inner)\n",
    "            break\n",
    "        prev_x = x\n",
    "        "
   ]
  },
  {
   "cell_type": "markdown",
   "metadata": {},
   "source": [
    "tau_2d[14],tau_2d[13],tau_2d[13],tau_2d[12],tau_2d[11],tau_2d[11],tau_2d[9],tau_2d[8],tau_2d[8],tau_2d[7]\n",
    "(-0.06666666666666667,\n",
    " -0.05,\n",
    " -0.05,\n",
    " -0.03333333333333333,\n",
    " -0.016666666666666666,\n",
    " -0.016666666666666666,\n",
    " 0.0,\n",
    " 0.016666666666666666,\n",
    " 0.016666666666666666,\n",
    " 0.03333333333333333)\n",
    "\n",
    " [[ 0. 14.]\n",
    " [ 0. 13.]\n",
    " [ 0. 13.]\n",
    " [ 0. 12.]\n",
    " [ 0. 11.]\n",
    " [ 0. 11.]\n",
    " [ 0.  9.]\n",
    " [ 0.  8.]\n",
    " [ 0.  8.]\n",
    " [ 0.  7.]]"
   ]
  },
  {
   "cell_type": "code",
   "execution_count": 15,
   "metadata": {},
   "outputs": [],
   "source": [
    "tau_2d = np.zeros(ntau*2-1)\n",
    "tau_2d[:ntau] = [-tau for tau in tau_series[::-1]]\n",
    "tau_2d[ntau:] = tau_series[1:]\n",
    "X,Y = np.meshgrid(tau_2d,tau_2d)"
   ]
  },
  {
   "cell_type": "code",
   "execution_count": 16,
   "metadata": {},
   "outputs": [
    {
     "name": "stderr",
     "output_type": "stream",
     "text": [
      "C:\\Users\\Administrator\\AppData\\Local\\Temp\\ipykernel_37916\\2383221811.py:4: MatplotlibDeprecationWarning: The get_cmap function was deprecated in Matplotlib 3.7 and will be removed in 3.11. Use ``matplotlib.colormaps[name]`` or ``matplotlib.colormaps.get_cmap()`` or ``pyplot.get_cmap()`` instead.\n",
      "  cmap = cm.get_cmap('coolwarm')\n"
     ]
    },
    {
     "data": {
      "text/plain": [
       "<matplotlib.collections.QuadMesh at 0x279ea5cf010>"
      ]
     },
     "execution_count": 16,
     "metadata": {},
     "output_type": "execute_result"
    }
   ],
   "source": [
    "import matplotlib\n",
    "import matplotlib.cm as cm\n",
    "fig,ax = plt.subplots(figsize=(7,6))\n",
    "cmap = cm.get_cmap('coolwarm')\n",
    "norm = matplotlib.colors.Normalize(vmin=-1.0, vmax=1.0)\n",
    "ax.pcolormesh(tau_series,tau_series,np.squeeze(response_func_eff[:,:ntau,1]).T,cmap=cmap,norm=norm)"
   ]
  },
  {
   "cell_type": "markdown",
   "metadata": {},
   "source": [
    "Eq(58) $\\lambda_{EE}^{eff}=1$"
   ]
  },
  {
   "cell_type": "code",
   "execution_count": 17,
   "metadata": {},
   "outputs": [
    {
     "name": "stdout",
     "output_type": "stream",
     "text": [
      "[ 0.06026737  0.04915626  0.03804515  0.02693403  0.01582292  0.00471181\n",
      " -0.0063993  -0.01751041 -0.02862152 -0.03973263]\n"
     ]
    }
   ],
   "source": [
    "## using Esubnet instability \n",
    "tauc_cross = ((1-NE*c*J)/ALPHAE**2/N**2/J**2/c/(1-c) - tau_series)/gamma/g\n",
    "print(tauc_cross)"
   ]
  },
  {
   "cell_type": "markdown",
   "metadata": {},
   "source": [
    "[ 0.06026737  0.04915626  0.03804515  0.02693403  0.01582292  0.00471181\n",
    " -0.0063993  -0.01751041 -0.02862152 -0.03973263]"
   ]
  },
  {
   "cell_type": "code",
   "execution_count": 18,
   "metadata": {},
   "outputs": [],
   "source": [
    "fig, ax = plt.subplots(figsize=(8,6))\n",
    "ax.plot(-tau_x,tau_series,'gray',label='Response function')\n",
    "ax.plot(tauc_cross, tau_series,'k',label='E-stability')\n",
    "ax.scatter(tauc_cross[5]*0.5+tauc_cross[6]*0.5,tau_series[5]*0.5+tau_series[6]*0.5,c='k',label='E-stability',marker = '^',s=100)\n",
    "ax.set_xticks(tau_2d)\n",
    "ax.set_yticks(tau_series)\n",
    "ax.set_xlim([-0.15,0.15])\n",
    "ax.set_ylim([0,0.15])\n",
    "ax.set_aspect('equal')\n",
    "plt.show()"
   ]
  }
 ],
 "metadata": {
  "kernelspec": {
   "display_name": "Python 3",
   "language": "python",
   "name": "python3"
  },
  "language_info": {
   "codemirror_mode": {
    "name": "ipython",
    "version": 3
   },
   "file_extension": ".py",
   "mimetype": "text/x-python",
   "name": "python",
   "nbconvert_exporter": "python",
   "pygments_lexer": "ipython3",
   "version": "3.11.5"
  }
 },
 "nbformat": 4,
 "nbformat_minor": 2
}
