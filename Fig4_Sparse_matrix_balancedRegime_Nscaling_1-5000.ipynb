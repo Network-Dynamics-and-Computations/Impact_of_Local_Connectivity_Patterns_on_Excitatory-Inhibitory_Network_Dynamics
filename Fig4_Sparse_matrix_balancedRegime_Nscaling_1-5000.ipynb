{
 "cells": [
  {
   "cell_type": "code",
   "execution_count": 1,
   "metadata": {},
   "outputs": [],
   "source": [
    "# %matplotlib qt5\n",
    "%matplotlib inline\n",
    "import numpy as np\n",
    "from numpy import linalg as la\n",
    "import matplotlib.pylab as plt\n",
    "from scipy.optimize import fsolve\n",
    "import math\n",
    "import statsmodels.api as sm\n",
    "from scipy.stats import norm\n",
    "import seaborn as sns\n",
    "from scipy import stats\n",
    "from matplotlib.patches import Ellipse\n",
    "import matplotlib.transforms as transforms"
   ]
  },
  {
   "cell_type": "code",
   "execution_count": 5,
   "metadata": {},
   "outputs": [],
   "source": [
    "import scipy\n",
    "from functools import partial\n",
    "def odeIntegral(x,t,J,I=0):\n",
    "    x = np.squeeze(x)\n",
    "    x = np.reshape(x,(len(x),1))\n",
    "    # dxdt = -x+J@np.tanh(x)#+I[0]\n",
    "    dxdt = -x+J@x+I[0]\n",
    "    return np.squeeze(dxdt)\n",
    "def odesimulation(t,xinit,Jpt,I):\n",
    "\treturn scipy.integrate.odeint(partial(odeIntegral,J=Jpt,I=I),xinit,t)\n",
    "shiftx = 1.5\n",
    "def odeIntegralP(x,t,J,I=0):\n",
    "\tx = np.squeeze(x)\n",
    "\tx = np.reshape(x,(len(x),1))\n",
    "\t# print('size:',np.shape(x),np.shape(J@np.tanh(x)))\n",
    "\tdxdt = -x+J@(1.0+np.tanh(x-shiftx))\n",
    "\treturn np.squeeze(dxdt)\n",
    "def odesimulationP(t,xinit,Jpt,I):\n",
    "\treturn scipy.integrate.odeint(partial(odeIntegralP,J=Jpt,I=I),xinit,t)"
   ]
  },
  {
   "cell_type": "code",
   "execution_count": 8,
   "metadata": {},
   "outputs": [],
   "source": [
    "'''.sh code run SONETs'''\n",
    "# # for value in {0.   0.14 0.28 0.42 0.56 0.7  0.84 0.98 1.12 1.26 1.4 }; do\n",
    "# #     ./run_secorder 1000 0.2 $(echo \"$value*2\" | bc) $value $value 1 1\n",
    "# # done\n",
    "# for seed in {1 7 8 12 13 19 28 31 33 39 40 42 48 50 51 52 55 56 59 65 66 67 69 70 75 76 78 82 83 86 94}; do     mkdir -p \"seed_$seed\"; done\n",
    "\n",
    "# for seed in {0..36}; do     mkdir -p \"seed_$seed\"; done"
   ]
  },
  {
   "cell_type": "markdown",
   "metadata": {},
   "source": [
    "#### Strongly connected regime"
   ]
  },
  {
   "cell_type": "code",
   "execution_count": 4,
   "metadata": {},
   "outputs": [
    {
     "name": "stdout",
     "output_type": "stream",
     "text": [
      "alpha used in SONETs: [0.  0.1 0.2 0.3 0.4 0.5 0.6 0.7 0.8 0.9]\n",
      "alpha_reciprocal: [0.  0.2 0.4 0.6 0.8 1.  1.2 1.4 1.6 1.8]\n"
     ]
    }
   ],
   "source": [
    "ntau = 10#21#\n",
    "trials = 30+6\n",
    "\n",
    "''' Parameters used for all networks (reciprocal and chain)'''\n",
    "N =1750#1750#2000\n",
    "J = 1/np.sqrt(1500)*0.5\n",
    "### get the current path location and read the data file\n",
    "import os\n",
    "strr= os.getcwd()\n",
    "print(strr)\n",
    "\n",
    "c = 0.2\n",
    "# sigma2 = N*c*(1-c)*J**2\n",
    "g, gamma = 6.8, 1/4.0#1.5,1/1.# 6.8, 1/4.0#1.5,1/1.#\n",
    "NE = int(N/(1+gamma))\n",
    "NI = int(gamma*NE)\n",
    "N  = NE+NI\n",
    "print(N,NE,NI)\n",
    "ALPHAE, ALPHAI = NE/N, NI/N\n",
    "KE, KI = int(c*NE), int(c*NI) ### fixed out-degree\n",
    "print('Network size:',N)\n",
    "print('number of connected E/I neurons:',KE,KI)\n",
    "print('non-zero J:',J)\n",
    "ji,je = g*J,J \n",
    "\n",
    "### define the network parameters of the diluted Gaussian matrix \n",
    "ge, gi = np.sqrt(je**2*c*(1-c)*N), np.sqrt(ji**2*c*(1-c)*N) \n",
    "hat_sigmae, hat_sigmai = np.sqrt(c*(1-c)), np.sqrt(c*(1-c))### standard deviation of the adjacency matrix\n",
    "sigmae,sigmai = np.sqrt(c*(1-c)*J**2*N), np.sqrt(c*(1-c)*(-g*J)**2*N)### with magnitude of the coupling\n",
    "JE,JI = je*c*NE, ji*c*NI \n",
    "lambda0 = JE-JI \n",
    "print('lambda0:',lambda0)\n",
    "print('ge,gi:',ge,gi)\n",
    "print('JE,JI:',JE,JI)\n",
    "\n",
    "tau_series = np.linspace(0,0.225,ntau)# np.linspace(0.25,0.4,ntau)#\n",
    "alpha_series = (tau_series*c*(1-c)+c**2)/c**2-1\n",
    "alpha_series_rec = (tau_series*2*c*(1-c)+c**2)/c**2-1\n",
    "print('alpha used in SONETs:',alpha_series)\n",
    "print('alpha_reciprocal:',alpha_series_rec)\n",
    "# ((alpha_series+1)*c**2-c**2)/c/(1-c)"
   ]
  },
  {
   "cell_type": "code",
   "execution_count": 112,
   "metadata": {},
   "outputs": [
    {
     "name": "stdout",
     "output_type": "stream",
     "text": [
      "eigvJ0: (-1.8073922282301493+0j)  theory: -1.8073922282301278\n",
      "DeltaZ2E,DeltaZ2I: -0.00046666666666666655 0.0031733333333333336\n"
     ]
    }
   ],
   "source": [
    "# tau_series = np.array([0.025, 0.05 , 0.075, 0.1  ])\n",
    "eigvchn_series, eigrvec_series, eiglvec_series = np.zeros((trials,ntau,N),dtype=complex), np.zeros((trials,ntau,N,2)), np.zeros((trials,ntau,N,2))\n",
    "eiglvec0_series, norml0_series = np.zeros((trials,ntau,N,2)), np.zeros((trials,ntau+1,N)) \n",
    "### normalization for left and right eigenvectors \n",
    "norms_for_lvec, norms_for_rvec = np.zeros((trials,ntau+1,2)), np.zeros((trials,ntau+1,2))\n",
    "### also have the reconstructed left and right eigenvectors \n",
    "eigrvec_series_rec, eiglvec_series_rec = np.zeros((trials,ntau,N,2)), np.zeros((trials,ntau,N,2))\n",
    "### mean connectivity\n",
    "nvec, mvec = np.zeros((N,1)), np.ones((N,1))\n",
    "nvec[:NE,0], nvec[NE:,0] = N*JE/NE, -N*JI/NI\n",
    "Jbar = mvec@nvec.T/N \n",
    "## TEST THE EIGENVALUES OF THE MEAN MATRIX \n",
    "eigvJ0, eigvecJ0 = la.eig(Jbar)\n",
    "print('eigvJ0:',eigvJ0[0],' theory:',JE-JI)\n",
    "### mean left and right eigenvectors\n",
    "leigvec0, reigvec0 = np.zeros((N,N)), np.zeros((N,N))\n",
    "norm_left = np.zeros(2)\n",
    "## first eigenvector\n",
    "leigvec0[:,0], reigvec0[:,0] = nvec[:,0]/(JE-JI)/np.sqrt(N), mvec[:,0]/np.sqrt(N)\n",
    "norm_left[0]  = la.norm(leigvec0[:,0])\n",
    "leigvec0[:,0] = leigvec0[:,0]/norm_left[0]\n",
    "norml0_series[:,0,0] = np.sum(leigvec0[:,0]*reigvec0[:,0])\n",
    "## second eigenvector\n",
    "kk = np.sqrt(NE*JI**2+NI*JE**2)\n",
    "reigvec0[:NE,1], reigvec0[NE:,1] = JI/kk,JE/kk \n",
    "leigvec0[:NE,1], leigvec0[NE:,1] = -kk/(JE-JI)/NE,kk/(JE-JI)/NI \n",
    "norm_left[1]  = la.norm(leigvec0[:,1])\n",
    "leigvec0[:,1] = leigvec0[:,1]/norm_left[1]\n",
    "norml0_series[:,0,1] = np.sum(leigvec0[:,1]*reigvec0[:,1])\n",
    "outerproduct = np.sum(leigvec0[:,0]*reigvec0[:,1])#*norm_left\n",
    "### compute the square of the random connectivity \n",
    "Z2E = N*J**2*hat_sigmae**2*tau_series*ALPHAE-N*g*J**2*hat_sigmae*hat_sigmai*tau_series*ALPHAI\n",
    "Z2I = -N*g*J**2*hat_sigmae*hat_sigmai*tau_series*ALPHAE+N*g**2*J**2*hat_sigmai**2*tau_series*ALPHAI\n",
    "DeltaZ2E, DeltaZ2I = Z2E[1]-Z2E[0],Z2I[1]-Z2I[0] ### for practical use\n",
    "print('DeltaZ2E,DeltaZ2I:',DeltaZ2E,DeltaZ2I)\n",
    "DeltaZ2 = np.zeros((N,N))\n",
    "DeltaZ2[:,:NE], DeltaZ2[:,NE:] = DeltaZ2E, DeltaZ2I\n",
    "\n",
    "### E population and I population separately\n",
    "Z2E_E, Z2I_E = N*J**2*hat_sigmae**2*tau_series*ALPHAE, -N*g*J**2*hat_sigmae*hat_sigmai*tau_series*ALPHAI\n",
    "Z2E_I, Z2I_I = -N*g*J**2*hat_sigmae*hat_sigmai*tau_series*ALPHAE, N*g**2*J**2*hat_sigmai**2*tau_series*ALPHAI\n",
    "DeltaZ2E_E, DeltaZ2I_E = Z2E_E[1]-Z2E_E[0],Z2I_E[1]-Z2I_E[0] ### for practical use\n",
    "DeltaZ2E_I, DeltaZ2I_I = Z2E_I[1]-Z2E_I[0],Z2I_I[1]-Z2I_I[0] ### for practical use\n",
    "DeltaZ2_E, DeltaZ2_I = np.zeros((N,N)),np.zeros((N,N))\n",
    "DeltaZ2_E[:,:NE], DeltaZ2_E[:,NE:] = DeltaZ2E_E, DeltaZ2I_E"
   ]
  },
  {
   "cell_type": "code",
   "execution_count": 12,
   "metadata": {},
   "outputs": [],
   "source": [
    "alphachn_series  = np.array([0.000,0.100,0.200,0.300,0.400,0.500,0.600,0.700,0.800,0.900])\n",
    "alpha_series_rec = np.array([0.000,0.200,0.400,0.600,0.800,1.000,1.200,1.400,1.600,1.800])"
   ]
  },
  {
   "cell_type": "code",
   "execution_count": 37,
   "metadata": {},
   "outputs": [],
   "source": [
    "#### constant and deterministic input signal\n",
    "Inp   = np.squeeze(np.ones((N,1)))/np.sqrt(N) \n",
    "tt = np.linspace(0,100,1000)\n",
    "#### random and structural input signal \n",
    "### simulation using the mean network connectivity (inhibition-dominated)\n",
    "Jpt   = Jbar.copy()\n",
    "xinit = np.squeeze(np.random.normal(0, 1E-2, (1, N)))\n",
    "xtemporal = odesimulation(tt, xinit, Jpt, Inp)\n",
    "firing_rate0 = np.reshape(xtemporal[-1,:N],(N,1))"
   ]
  },
  {
   "cell_type": "code",
   "execution_count": 38,
   "metadata": {},
   "outputs": [
    {
     "name": "stdout",
     "output_type": "stream",
     "text": [
      "[0.00556416 0.0056629 ]\n"
     ]
    }
   ],
   "source": [
    "ce=ci=c\n",
    "### generate i.i.d. s\n",
    "def randbin(M,N,P):  \n",
    "    return np.random.choice([0, 1], size=(M,N), p=[P, 1-P])\n",
    "\n",
    "sparseiid_dyns = np.zeros((trials,N,1))\n",
    "for ktrial in range(trials):\n",
    "    ### generate iid sparse connectivity \n",
    "    Ecol = randbin(1,NE*N,1-ce)\n",
    "    Icol = randbin(1,NI*N,1-ci)\n",
    "    Ecol = np.reshape(Ecol,(N,NE))\n",
    "    Icol = np.reshape(Icol,(N,NI))\n",
    "    iidsparse = np.zeros((N,N))\n",
    "    iidsparse[:,:NE], iidsparse[:,NE:] = Ecol.copy()*J,Icol.copy()*J*(-g)\n",
    "    xinit = np.squeeze(np.random.normal(0, 1E-2, (1, N)))\n",
    "    xtemporal = odesimulation(tt, xinit, iidsparse, Inp)\n",
    "    firing_rate0 = np.reshape(xtemporal[-1,:N],(N,1))\n",
    "    sparseiid_dyns[ktrial,:,:] = firing_rate0.copy()\n",
    "    \n",
    "sparseiid_dyns = np.squeeze(sparseiid_dyns)\n",
    "mean_sparseiid_dyns = np.zeros((trials,2))\n",
    "for ktrial in range(trials):\n",
    "    mean_sparseiid_dyns[ktrial,0],mean_sparseiid_dyns[ktrial,1]= np.mean(sparseiid_dyns[ktrial,:NE]),np.mean(sparseiid_dyns[ktrial,NE:])\n",
    "trialavg_sparseiid_dyns = np.mean(mean_sparseiid_dyns,axis=0)\n",
    "trialstd_sparseiid_dyns = np.std(mean_sparseiid_dyns,axis=0)\n",
    "print(trialavg_sparseiid_dyns)"
   ]
  },
  {
   "cell_type": "code",
   "execution_count": 39,
   "metadata": {},
   "outputs": [],
   "source": [
    "### simulation using the low-rank framework\n",
    "firing_rateeq = np.zeros((trials,ntau,N))\n",
    "### recording dynamics\n",
    "contributions_lr, contributions_lr_num = np.zeros((trials,ntau,2,2)), np.zeros((trials,ntau,2,2))### rank, population\n"
   ]
  },
  {
   "cell_type": "markdown",
   "metadata": {},
   "source": [
    "multiple values"
   ]
  },
  {
   "cell_type": "code",
   "execution_count": null,
   "metadata": {},
   "outputs": [],
   "source": [
    "trials = 36\n",
    "alphachns     = ['0.000','0.100','0.200','0.300','0.400','0.500','0.600','0.700','0.800','0.900']\n",
    "alphachns_rec = ['0.000','0.200','0.400','0.600','0.800','1.000','1.200','1.400','1.600','1.800']\n",
    "# alphachns_arr = np.array([0.1,0.2,0.3,0.4])\n",
    "eigvchn_series = np.zeros((trials,len(alphachns),N),dtype=complex)\n",
    "eiglvec0norm_series= np.zeros((trials,ntau,N,2))\n",
    "leig0mean_series = np.zeros((trials,ntau,N,2))\n",
    "leig0pre_series = np.zeros((trials,ntau,N,2))\n",
    "norm_4rvec_series, norm_4lvec_series = np.zeros((trials,ntau,2)),np.zeros((trials,ntau,2))\n",
    "norm_4lvec_series_ = np.zeros((trials,ntau,2))\n",
    "\n",
    "intg_mean_series  = np.zeros((trials,ntau,N,2,3))### mean overlap matrix rank and \n",
    "# tauchns_arr = alphachns_arr*c**2/c/(1-c)\n",
    "seedss = np.array([1, 4, 8, 10, 13, 14, 18, 19, 25, 26, 31, 32, 34, 36, 40, 43, 44, 49, 52, 53, 55 ,60, 62, 64, 71, 73, 76, 78, 81, 82, 83,84, 85, 86, 87, 88, 93, 94, 95])\n",
    "seedss = np.arange(1,37)\n",
    "for ktrial in range(trials):\n",
    "    seed =seedss[ktrial]\n",
    "    z_pre = 0\n",
    "    for idxalpha, alphachn in enumerate(alphachns[:]):\n",
    "        # if idxalpha <8:\n",
    "        #     continue\n",
    "        if idxalpha == 0:       \n",
    "            file_path = 'J:\\\\Allen_motif\\\\PRXL_data\\\\sonets\\\\N5000\\\\seed_'+str(seed)+'\\\\w_2000_0.200_'+alphachns_rec[idxalpha]+'_'+alphachn+'_'+alphachn+'_0.000_'+str(seed)+'.dat'\n",
    "        else:\n",
    "            file_path = 'J:\\\\Allen_motif\\\\PRXL_data\\\\sonets\\\\N5000\\\\seed_'+str(seed)+'\\\\w_2000_0.200_'+alphachns_rec[idxalpha]+'_'+alphachn+'_'+alphachn+'_1.000_'+str(seed)+'.dat'\n",
    "        Jmat = np.zeros((N,N))\n",
    "        count =0\n",
    "        with open(file_path, 'r') as file:\n",
    "            content = file.read()\n",
    "            if content == '0':\n",
    "                print('File is empty') \n",
    "            else:\n",
    "                for line in content.split('\\n'):\n",
    "                    if line:\n",
    "                        Jmat[count,:]=([(x) for x in line.split()])\n",
    "                        count +=1\n",
    "        # ### adding excitatory and inhibitory  \n",
    "        # Zmat2 = (Jmat-c)@(Jmat-c)\n",
    "        # chainsum = 0\n",
    "        # for i in range(1000):\n",
    "        #     for j in range(1000):\n",
    "        #         if i!=j:\n",
    "        #             chainsum += Zmat2[i,j]\n",
    "        # print('chainsum,',chainsum/1000/999)           \n",
    "        Jmat[:,:NE] = Jmat[:,:NE]*je\n",
    "        Jmat[:,NE:] = Jmat[:,NE:]*(-ji)\n",
    "\n",
    "        ktrial, it = ktrial, idxalpha\n",
    "        ### full rank simulation\n",
    "        xinit = np.squeeze(np.random.normal(0, 1E-2, (1, N)))\n",
    "        xc_temporal = odesimulation(tt, xinit, Jmat, Inp)\n",
    "        firing_rateeq[ktrial,it,:] = xc_temporal[-1,:].copy()\n",
    "            \n",
    "        zr = Jmat - Jbar\n",
    "        ### compute the eigenvalues and eigenvectors of the matrix\n",
    "        eigvchn, eigrvec = la.eig(Jmat)\n",
    "        ## sort the eigenValues by it's norm of the real part \n",
    "        idxeigv = np.argsort(np.abs(eigvchn))\n",
    "        idxeigv = idxeigv[::-1]\n",
    "        eigvchn, eigrvec = eigvchn[idxeigv],eigrvec[:,idxeigv]\n",
    "        \n",
    "        eigvchn_,eiglvec = la.eig(Jmat.copy().T)\n",
    "        idxeigv = np.argsort(np.abs(eigvchn_))\n",
    "        idxeigv = idxeigv[::-1]\n",
    "        eigvchn_, eiglvec = eigvchn[idxeigv],eiglvec[:,idxeigv]\n",
    "        \n",
    "        ### normalization\n",
    "        reig    = np.squeeze(eigrvec[:,:].copy())\n",
    "        leig0   = np.squeeze(eiglvec[:,:].copy()) \n",
    "        normval = np.sum(reig.copy()*leig0.copy(),axis=0)\n",
    "        \n",
    "        norml0_series[ktrial,it+1,:] = normval.copy() ### normalization factor shift right 1byte\n",
    "        normval = np.repeat(np.reshape(normval,(1,N)),N,axis=0)\n",
    "        leig = leig0.copy()/normval.copy()### left eigenvector normalization to make <l|r>=1\n",
    "        if np.mean(reig[:NE,0])<0:\n",
    "            reig[:,0]*=-1\n",
    "            leig[:,0]*=-1\n",
    "            leig0[:,0]*=-1\n",
    "        if np.mean(reig[:NE,1])<0: ### the second rank-1 component is negative\n",
    "            reig[:,1]*=-1\n",
    "            leig[:,1]*=-1\n",
    "            leig0[:,1]*=-1\n",
    "               \n",
    "              \n",
    "        print('seed:',seed,'alphachn:',alphachn,'idxalpha:',idxalpha)\n",
    "        print('eigenvalues',eigvchn[:2])\n",
    "        \n",
    "        DELTA_Z = np.zeros((N,N))\n",
    "        DELTA_Z = zr-z_pre  \n",
    "        hzr = DELTA_Z.copy()\n",
    "        \n",
    "        eigvchn_series[ktrial,it,:] = eigvchn[:] \n",
    "        eigrvec_series[ktrial,it,:,:]  = reig[:,:2].copy()#eigvecw_norm.copy()#\n",
    "        eiglvec_series[ktrial,it,:,:]  = leig[:,:2].copy()#eigvect_norm.copy()#\n",
    "        eiglvec0_series[ktrial,it,:,:] = leig0[:,:2].copy()#eigvect_norm.copy()#\n",
    "        for iii in range(2):\n",
    "            eiglvec0norm_series[ktrial,it,:,iii] = leig0[:,iii].copy()/normval[iii,iii]   \n",
    "        \n",
    "        z_pre = zr.copy()    "
   ]
  },
  {
   "cell_type": "markdown",
   "metadata": {},
   "source": [
    "single value"
   ]
  },
  {
   "cell_type": "code",
   "execution_count": 58,
   "metadata": {},
   "outputs": [
    {
     "name": "stdout",
     "output_type": "stream",
     "text": [
      "e:\\Dropbox\\DailyWork\\Allen_project\\sonets\n",
      "5000 4000 1000\n",
      "number of connected E/I neurons: 400 100\n",
      "non-zero J: 0.012909944487358056\n",
      "lambda0: -3.6147844564602556\n",
      "ge,gi: 0.27386127875258304 1.862256695517565\n",
      "JE,JI: 5.163977794943222 8.778762251403478\n"
     ]
    }
   ],
   "source": [
    "''' Parameters used for all networks (reciprocal and chain)'''\n",
    "N = 5000#1750#2000\n",
    "J = 1/np.sqrt(1500)*0.5\n",
    "### get the current path location and read the data file\n",
    "import os\n",
    "strr= os.getcwd()\n",
    "print(strr)\n",
    "\n",
    "c = 0.1#0.2\n",
    "# sigma2 = N*c*(1-c)*J**2\n",
    "g, gamma = 6.8, 1/4.0#1.5,1/1.# 6.8, 1/4.0#1.5,1/1.#\n",
    "NE = int(N/(1+gamma))\n",
    "NI = int(gamma*NE)\n",
    "N  = NE+NI\n",
    "print(N,NE,NI)\n",
    "ALPHAE, ALPHAI = NE/N, NI/N\n",
    "KE, KI = int(c*NE), int(c*NI) ### fixed out-degree\n",
    "print('number of connected E/I neurons:',KE,KI)\n",
    "print('non-zero J:',J)\n",
    "ji,je = g*J,J \n",
    "\n",
    "### define the network parameters of the diluted Gaussian matrix \n",
    "ge, gi = np.sqrt(je**2*c*(1-c)*N), np.sqrt(ji**2*c*(1-c)*N) \n",
    "hat_sigmae, hat_sigmai = np.sqrt(c*(1-c)), np.sqrt(c*(1-c))### standard deviation of the adjacency matrix\n",
    "sigmae,sigmai = np.sqrt(c*(1-c)*J**2*N), np.sqrt(c*(1-c)*(-g*J)**2*N)### with magnitude of the coupling\n",
    "JE,JI = je*c*NE, ji*c*NI \n",
    "lambda0 = JE-JI \n",
    "print('lambda0:',lambda0)\n",
    "print('ge,gi:',ge,gi)\n",
    "print('JE,JI:',JE,JI)\n",
    "\n",
    "### construct the mean matrix\n"
   ]
  },
  {
   "cell_type": "code",
   "execution_count": 43,
   "metadata": {},
   "outputs": [],
   "source": [
    "# data = np.load(\"E:\\Dropbox\\DailyWork\\Allen_project\\preparation4paper_Data\\sonets\\ConnStats_WD_Adjacency_4April_PRX_68N1000_Nscaling_c03alpha06.npz\",allow_pickle=True)\n",
    "# eigvchn_series_1 = data['eigvchn_series']\n",
    "# data = np.load(\"E:\\Dropbox\\DailyWork\\Allen_project\\preparation4paper_Data\\sonets\\ConnStats_WD_Adjacency_4April_PRX_68N2000_Nscaling_c015alpha06.npz\",allow_pickle=True)\n",
    "# eigvchn_series_2 = data['eigvchn_series']\n",
    "# data = np.load(\"E:\\Dropbox\\DailyWork\\Allen_project\\preparation4paper_Data\\sonets\\ConnStats_WD_Adjacency_4April_PRX_68N3000_Nscaling_c01alpha06.npz\",allow_pickle=True)\n",
    "# eigvchn_series_3 = data['eigvchn_series']\n",
    "# data = np.load(\"E:\\Dropbox\\DailyWork\\Allen_project\\preparation4paper_Data\\sonets\\ConnStats_WD_Adjacency_4April_PRX_68N4000_Nscaling_c0075alpha06.npz\",allow_pickle=True)\n",
    "# eigvchn_series_4 = data['eigvchn_series']"
   ]
  },
  {
   "cell_type": "markdown",
   "metadata": {},
   "source": [
    "#### Weakly connected regime"
   ]
  },
  {
   "cell_type": "code",
   "execution_count": 60,
   "metadata": {},
   "outputs": [
    {
     "name": "stdout",
     "output_type": "stream",
     "text": [
      "seed: 0 alphachn: 0.6 idxalpha: 6\n",
      "eigenvalues [-3.58900578+0.j          0.6296092 +0.50396022j]\n",
      "seed: 1 alphachn: 0.6 idxalpha: 6\n",
      "eigenvalues [-3.86255169+0.j          0.65570826+0.49325813j]\n",
      "seed: 2 alphachn: 0.6 idxalpha: 6\n",
      "eigenvalues [-3.33825762+0.j          0.79575151+0.08007646j]\n",
      "seed: 3 alphachn: 0.6 idxalpha: 6\n",
      "eigenvalues [-2.58725123+0.j          0.42140651+0.65334789j]\n",
      "seed: 4 alphachn: 0.6 idxalpha: 6\n",
      "eigenvalues [-3.2630397 +0.j          0.59482493+0.50554347j]\n",
      "seed: 5 alphachn: 0.6 idxalpha: 6\n",
      "eigenvalues [-3.75009058+0.j          0.53565355+0.61302222j]\n",
      "seed: 6 alphachn: 0.6 idxalpha: 6\n",
      "eigenvalues [-3.00573454+0.j         -0.63327211+0.50738692j]\n",
      "seed: 7 alphachn: 0.6 idxalpha: 6\n",
      "eigenvalues [-3.35507555+0.j  0.81438497+0.j]\n",
      "seed: 8 alphachn: 0.6 idxalpha: 6\n",
      "eigenvalues [-3.05004016+0.j          0.81748283+0.03272334j]\n",
      "seed: 9 alphachn: 0.6 idxalpha: 6\n",
      "eigenvalues [-3.41880615+0.j          0.35817431+0.73556524j]\n",
      "seed: 10 alphachn: 0.6 idxalpha: 6\n",
      "eigenvalues [-3.37696687+0.j         -0.07156697+0.81363664j]\n",
      "seed: 11 alphachn: 0.6 idxalpha: 6\n",
      "eigenvalues [-3.89275788+0.j          0.55439719+0.61682777j]\n",
      "seed: 12 alphachn: 0.6 idxalpha: 6\n",
      "eigenvalues [-2.34136533e+00+0.j          3.93633725e-04-0.77528162j]\n",
      "seed: 13 alphachn: 0.6 idxalpha: 6\n",
      "eigenvalues [-4.21784692+0.j          0.65145905+0.53189712j]\n",
      "seed: 14 alphachn: 0.6 idxalpha: 6\n",
      "eigenvalues [-2.83340184+0.j  0.79880308+0.j]\n",
      "seed: 15 alphachn: 0.6 idxalpha: 6\n",
      "eigenvalues [-3.85760405+0.j          0.8015611 -0.09376745j]\n",
      "seed: 16 alphachn: 0.6 idxalpha: 6\n",
      "eigenvalues [-3.66603893+0.j        0.75941734+0.252467j]\n",
      "seed: 17 alphachn: 0.6 idxalpha: 6\n",
      "eigenvalues [-3.4066844 +0.j  0.79357344+0.j]\n",
      "seed: 18 alphachn: 0.6 idxalpha: 6\n",
      "eigenvalues [-2.81027534+0.j          0.15669831+0.77336512j]\n",
      "seed: 19 alphachn: 0.6 idxalpha: 6\n",
      "eigenvalues [-2.72539977+0.j          0.3102082 +0.73645147j]\n",
      "seed: 20 alphachn: 0.6 idxalpha: 6\n",
      "eigenvalues [-4.02678036+0.j          0.01539586+0.84204618j]\n",
      "seed: 21 alphachn: 0.6 idxalpha: 6\n",
      "eigenvalues [-3.60044394+0.j          0.68957848+0.44712251j]\n",
      "seed: 22 alphachn: 0.6 idxalpha: 6\n",
      "eigenvalues [-3.79332635+0.j          0.44448621+0.69400353j]\n",
      "seed: 23 alphachn: 0.6 idxalpha: 6\n",
      "eigenvalues [-2.9680646 +0.j          0.52870562-0.61954258j]\n",
      "seed: 24 alphachn: 0.6 idxalpha: 6\n",
      "eigenvalues [-3.19338882+0.j          0.6401543 +0.46232193j]\n",
      "seed: 25 alphachn: 0.6 idxalpha: 6\n",
      "eigenvalues [-3.94277766+0.j          0.6745714 +0.48896952j]\n",
      "seed: 26 alphachn: 0.6 idxalpha: 6\n",
      "eigenvalues [-3.65433993+0.j          0.1493875 +0.82768333j]\n",
      "seed: 27 alphachn: 0.6 idxalpha: 6\n",
      "eigenvalues [-3.41370785+0.j          0.17443155+0.81073781j]\n",
      "seed: 28 alphachn: 0.6 idxalpha: 6\n",
      "eigenvalues [-2.98119311+0.j         0.55675015+0.5462355j]\n",
      "seed: 29 alphachn: 0.6 idxalpha: 6\n",
      "eigenvalues [-3.81092056+0.j          0.51700873+0.62705369j]\n",
      "seed: 30 alphachn: 0.6 idxalpha: 6\n",
      "eigenvalues [-3.79688691+0.j          0.60846126+0.53921611j]\n",
      "seed: 31 alphachn: 0.6 idxalpha: 6\n",
      "eigenvalues [-4.08239424+0.j          0.80503481-0.24661131j]\n",
      "seed: 32 alphachn: 0.6 idxalpha: 6\n",
      "eigenvalues [-2.60363046+0.j         -0.09711557-0.77307726j]\n",
      "seed: 33 alphachn: 0.6 idxalpha: 6\n",
      "eigenvalues [-3.61803573+0.j          0.79268559+0.20451165j]\n",
      "seed: 34 alphachn: 0.6 idxalpha: 6\n",
      "eigenvalues [-3.77448759+0.j          0.79350511+0.21179479j]\n",
      "seed: 35 alphachn: 0.6 idxalpha: 6\n",
      "eigenvalues [-3.42069617+0.j  0.81703248+0.j]\n"
     ]
    }
   ],
   "source": [
    "trials = 36\n",
    "alphachns     = ['0.000','0.100','0.200','0.300','0.400','0.500','0.600','0.700','0.800','0.900']\n",
    "alphachns_rec = ['0.000','0.200','0.400','0.600','0.800','1.000','1.200','1.400','1.600','1.800']\n",
    "# alphachns_arr = np.array([0.1,0.2,0.3,0.4])\n",
    "eigvchn_series = np.zeros((trials,1,N),dtype=complex)\n",
    "# tauchns_arr = alphachns_arr*c**2/c/(1-c)\n",
    "seedss = np.array([1, 4, 8, 10, 13, 14, 18, 19, 25, 26, 31, 32, 34, 36, 40, 43, 44, 49, 52, 53, 55 ,60, 62, 64, 71, 73, 76, 78, 81, 82, 83,84, 85, 86, 87, 88, 93, 94, 95])\n",
    "seedss = np.arange(1,37)\n",
    "seedss = np.arange(0,36)\n",
    "for ktrial in range(trials):\n",
    "    seed =seedss[ktrial]\n",
    "    z_pre = 0\n",
    "    idxalpha,alphachn=6,0.6\n",
    "\n",
    "    # file_path = 'K:Projects\\\\Allen_motif\\\\PRXL_data\\\\sonets\\\\N5000\\\\seed_'+str(seed)+'\\\\w_1750_0.171_'+alphachns_rec[idxalpha]+'_'+alphachns[idxalpha]+'_'+alphachns[idxalpha]+'_1.000_'+str(seed)+'.dat'\n",
    "    file_path = 'K:\\\\Projects\\\\Allen_motif\\\\PRXL_data\\\\sonets\\\\N5000_FIXNUM\\\\seed_'+str(seed)+'\\\\w_1000_0.300_'+alphachns_rec[idxalpha]+'_'+alphachns[idxalpha]+'_'+alphachns[idxalpha]+'_1.000_'+str(seed)+'.dat' ## 1000 - c probability = 0.3\n",
    "    file_path = 'K:\\\\Projects\\\\Allen_motif\\\\PRXL_data\\\\sonets\\\\N5000_FIXNUM\\\\seed_'+str(seed)+'\\\\w_5000_0.060_'+alphachns_rec[idxalpha]+'_'+alphachns[idxalpha]+'_'+alphachns[idxalpha]+'_1.000_'+str(seed)+'.dat' ## 5000 - c probability = 0.06\n",
    "    Jmat = np.zeros((N,N))\n",
    "    count =0\n",
    "    with open(file_path, 'r') as file:\n",
    "        content = file.read()\n",
    "        if content == '0':\n",
    "            print('File is empty') \n",
    "        else:\n",
    "            for line in content.split('\\n'):\n",
    "                if line:\n",
    "                    Jmat[count,:]=([(x) for x in line.split()])\n",
    "                    count +=1\n",
    "    # ### adding excitatory and inhibitory  \n",
    "    # Zmat2 = (Jmat-c)@(Jmat-c)\n",
    "    # chainsum = 0\n",
    "    # for i in range(1000):\n",
    "    #     for j in range(1000):\n",
    "    #         if i!=j:\n",
    "    #             chainsum += Zmat2[i,j]\n",
    "    # print('chainsum,',chainsum/1000/999)           \n",
    "    Jmat[:,:NE] = Jmat[:,:NE]*je\n",
    "    Jmat[:,NE:] = Jmat[:,NE:]*(-ji)\n",
    "\n",
    "    ktrial, it = ktrial, 0\n",
    "\n",
    "    ### compute the eigenvalues and eigenvectors of the matrix\n",
    "    eigvchn, eigrvec = la.eig(Jmat)\n",
    "    ## sort the eigenValues by it's norm of the real part \n",
    "    idxeigv = np.argsort(np.abs(eigvchn))\n",
    "    idxeigv = idxeigv[::-1]\n",
    "    eigvchn, eigrvec = eigvchn[idxeigv],eigrvec[:,idxeigv]\n",
    "    \n",
    "    eigvchn_,eiglvec = la.eig(Jmat.copy().T)\n",
    "    idxeigv = np.argsort(np.abs(eigvchn_))\n",
    "    idxeigv = idxeigv[::-1]\n",
    "    eigvchn_, eiglvec = eigvchn[idxeigv],eiglvec[:,idxeigv]\n",
    "    \n",
    "    ### normalization\n",
    "    reig    = np.squeeze(eigrvec[:,:].copy())\n",
    "    leig0   = np.squeeze(eiglvec[:,:].copy()) \n",
    "    normval = np.sum(reig.copy()*leig0.copy(),axis=0)\n",
    "    \n",
    "    normval = np.repeat(np.reshape(normval,(1,N)),N,axis=0)\n",
    "    leig = leig0.copy()/normval.copy()### left eigenvector normalization to make <l|r>=1\n",
    "    if np.mean(reig[:NE,0])<0:\n",
    "        reig[:,0]*=-1\n",
    "        leig[:,0]*=-1\n",
    "        leig0[:,0]*=-1\n",
    "    if np.mean(reig[:NE,1])<0: ### the second rank-1 component is negative\n",
    "        reig[:,1]*=-1\n",
    "        leig[:,1]*=-1\n",
    "        leig0[:,1]*=-1    \n",
    "            \n",
    "    print('seed:',seed,'alphachn:',alphachn,'idxalpha:',idxalpha)\n",
    "    print('eigenvalues',eigvchn[:2])\n",
    "    \n",
    "    \n",
    "    eigvchn_series[ktrial,it,:] = eigvchn[:] "
   ]
  },
  {
   "cell_type": "markdown",
   "metadata": {},
   "source": [
    "#### load-in data stored"
   ]
  },
  {
   "cell_type": "code",
   "execution_count": 6,
   "metadata": {},
   "outputs": [],
   "source": [
    "# # eigvchn_series_NscaledProb[4,:,:] = eigvchn_series[:,6,:2]\n",
    "# lst = [eigvchn_series_NscaledNum, eigvchn_theo]\n",
    "# stg = [\"eigvchn_series_NscaledNum, eigvchn_theo\"]\n",
    "# data = list_to_dict(lst=lst, string=stg)\n",
    "data_name = \"E:/Dropbox/DailyWork/Allen_project/preparation4paper_Data/sonets/ConnStats_WD_Adjacency_4April_PRX_68N1000_5000_FIXNUM.npz\"\n",
    "# np.savez(data_name, **data)\n",
    "## load the data\n",
    "data = np.load(\"E:/Dropbox/DailyWork/Allen_project/preparation4paper_Data/sonets/ConnStats_WD_Adjacency_4April_PRX_68N1000_5000_FIXNUM.npz\",allow_pickle=True)\n",
    "eigvchn_series_NscaledNum = data['eigvchn_series_NscaledNum']\n",
    "eigvchn_theo = data['eigvchn_theo']\n",
    "\n",
    "# # eigvchn_series_NscaledProb[4,:,:] = eigvchn_series[:,6,:2]\n",
    "# lst = [eigvchn_series_NscaledProb, eigvchn_theosss]\n",
    "# stg = [\"eigvchn_series_NscaledProb, eigvchn_theosss\"]\n",
    "# data = list_to_dict(lst=lst, string=stg)\n",
    "data_name = \"E:/Dropbox/DailyWork/Allen_project/preparation4paper_Data/sonets/ConnStats_WD_Adjacency_4April_PRX_68N1000_5000_FIXPROB.npz\"\n",
    "# np.savez(data_name, **data)\n",
    "## load the data \n",
    "data = np.load(\"E:/Dropbox/DailyWork/Allen_project/preparation4paper_Data/sonets/ConnStats_WD_Adjacency_4April_PRX_68N1000_5000_FIXPROB.npz\",allow_pickle=True)\n",
    "eigvchn_series_NscaledProb = data['eigvchn_series_NscaledProb']\n",
    "eigvchn_theosss = data['eigvchn_theosss']\n"
   ]
  },
  {
   "cell_type": "code",
   "execution_count": 7,
   "metadata": {},
   "outputs": [
    {
     "data": {
      "image/png": "[encoded data removed]",
      "text/plain": [
       "<Figure size 400x300 with 1 Axes>"
      ]
     },
     "metadata": {},
     "output_type": "display_data"
    }
   ],
   "source": [
    "### plot the numerical error bar and theoretical eigvchn_theosss  \n",
    "NNN = np.array([1000,2000,3000,4000,5000])  \n",
    "fig,ax=plt.subplots(figsize=(4,3))\n",
    "alphass=0.95\n",
    "ax.errorbar(NNN,np.nanmean(eigvchn_series_NscaledProb[:,:,0].real,axis=1),yerr=np.nanstd(eigvchn_series_NscaledProb[:,:,0].real,axis=1),fmt='x',color='tab:red',ecolor='tab:red',alpha=alphass,ls='',elinewidth=1.5)\n",
    "# ax.plot(NNN, eigvchn_theosss[:,0],marker='o',color='tab:red',alpha=1,lw=1.5)\n",
    "ax.plot(NNN, eigvchn_theosss[:,0],color='tab:red',alpha=1,lw=1.5)\n",
    "\n",
    "ax.errorbar(NNN,np.nanmean(eigvchn_series_NscaledProb[:,:,1].real,axis=1),yerr=np.nanstd(eigvchn_series_NscaledProb[:,:,1].real,axis=1),fmt='x',color='tab:green',ecolor='tab:green',alpha=alphass,ls='',elinewidth=1.5)\n",
    "# ax.plot(NNN, eigvchn_theosss[:,1],marker='o',color='tab:green',alpha=1,lw=1.5)\n",
    "ax.plot(NNN, eigvchn_theosss[:,1],color='tab:green',alpha=1,lw=1.5)\n",
    "### plot the y=1 line\n",
    "ax.plot([900,5100],[1,1],'--',color='gray')\n",
    "\n",
    "### design the axes\n",
    "ax.set_xlim(900,5100)\n",
    "ax.set_xticks(NNN)\n",
    "ax.set_ylim(-11.5,5.5)\n",
    "ax.set_yticks([-10,5])\n",
    "### move the axes to the center\n",
    "# ax.spines['left'].set_position(('data', 0))\n",
    "ax.spines['bottom'].set_position(('data', 0))\n",
    "ax.spines['right'].set_visible(False)\n",
    "ax.spines['top'].set_visible(False)\n",
    "ax.set_xlabel(r'$\\tau$',fontsize=14)\n",
    "ax.set_ylabel(r'$\\nu_{E}$',fontsize=14)\n",
    "ax.tick_params(labelsize=12)\n",
    "# ax.set_title(r'$\\nu_{E}$',fontsi\n",
    "plt.show()"
   ]
  },
  {
   "cell_type": "code",
   "execution_count": 8,
   "metadata": {},
   "outputs": [
    {
     "data": {
      "image/png": "[encoded data removed]",
      "text/plain": [
       "<Figure size 400x300 with 1 Axes>"
      ]
     },
     "metadata": {},
     "output_type": "display_data"
    }
   ],
   "source": [
    "### plot the numerical error bar and theoretical eigvchn_theosss  \n",
    "NNN = np.array([1000,2000,3000,4000,5000])  \n",
    "fig,ax=plt.subplots(figsize=(4,3))\n",
    "alphass=0.95\n",
    "ax.errorbar(NNN,np.nanmean(eigvchn_series_NscaledNum[:,:,0].real,axis=1),yerr=np.nanstd(eigvchn_series_NscaledNum[:,:,0].real,axis=1),fmt='x',color='tab:red',ecolor='tab:red',alpha=alphass,ls='',elinewidth=1.5)\n",
    "# ax.plot(NNN, eigvchn_theo[:,0],marker='o',color='tab:red',alpha=1,lw=1.5)\n",
    "ax.plot(NNN, eigvchn_theo[:,0],color='tab:red',alpha=1,lw=1.5)\n",
    "\n",
    "ax.errorbar(NNN,np.nanmean(eigvchn_series_NscaledNum[:,:,1].real,axis=1),yerr=np.nanstd(eigvchn_series_NscaledNum[:,:,1].real,axis=1),fmt='x',color='tab:green',ecolor='tab:green',alpha=alphass,ls='',elinewidth=1.5)\n",
    "# ax.plot(NNN, eigvchn_theo[:,1],marker='o',color='tab:green',alpha=1,lw=1.5)\n",
    "ax.plot(NNN, eigvchn_theo[:,1],color='tab:green',alpha=1,lw=1.5)\n",
    "\n",
    "### plot the y=1 line\n",
    "ax.plot([900,5100],[1,1],'--',color='gray')\n",
    "\n",
    "### design the axes\n",
    "ax.set_xlim(900,5100)\n",
    "ax.set_xticks(NNN)\n",
    "ax.set_ylim(-11.5,5.5)\n",
    "ax.set_yticks([-10,5])\n",
    "### move the axes to the center\n",
    "# ax.spines['left'].set_position(('data', 0))\n",
    "ax.spines['bottom'].set_position(('data', 0))\n",
    "ax.spines['right'].set_visible(False)\n",
    "ax.spines['top'].set_visible(False)\n",
    "ax.set_xlabel(r'$\\tau$',fontsize=14)\n",
    "ax.set_ylabel(r'$\\nu_{E}$',fontsize=14)\n",
    "ax.tick_params(labelsize=12)\n",
    "# ax.set_title(r'$\\nu_{E}$',fontsi\n",
    "plt.show()"
   ]
  },
  {
   "cell_type": "markdown",
   "metadata": {},
   "source": [
    "#### Backup"
   ]
  },
  {
   "cell_type": "code",
   "execution_count": null,
   "metadata": {},
   "outputs": [],
   "source": [
    "for seed in {0..36}; do\n",
    "./run_secorder 1500 0.2 0.0 0.0 0.0 0 $seed\n",
    "./run_secorder 1500 0.2 0.2 0.1 0.1 1 $seed\n",
    "./run_secorder 1500 0.2 0.4 0.2 0.2 1 $seed\n",
    "./run_secorder 1500 0.2 0.6 0.3 0.3 1 $seed\n",
    "./run_secorder 1500 0.2 0.8 0.4 0.4 1 $seed\n",
    "./run_secorder 1500 0.2 1.0 0.5 0.5 1 $seed\n",
    "./run_secorder 1500 0.2 1.2 0.6 0.6 1 $seed\n",
    "./run_secorder 1500 0.2 1.4 0.7 0.7 1 $seed\n",
    "./run_secorder 1500 0.2 1.6 0.8 0.8 1 $seed\n",
    "./run_secorder 1500 0.2 1.8 0.9 0.9 1 $seed\n",
    "\n",
    "done"
   ]
  },
  {
   "cell_type": "code",
   "execution_count": 15,
   "metadata": {},
   "outputs": [],
   "source": [
    "def list_to_dict(lst, string):\n",
    "    \"\"\"\n",
    "    Transform a list of variables into a dictionary.\n",
    "    Parameters\n",
    "    ----------\n",
    "    lst : list\n",
    "        list with all variables.\n",
    "    string : str\n",
    "        string containing the names, separated by commas.\n",
    "    Returns\n",
    "    -------\n",
    "    d : dict\n",
    "        dictionary with items in which the keys and the values are specified\n",
    "        in string and lst values respectively.\n",
    "    \"\"\"\n",
    "    string = string[0]\n",
    "    string = string.replace(']', '')\n",
    "    string = string.replace('[', '')\n",
    "    string = string.replace('\\\\', '')\n",
    "    string = string.replace(' ', '')\n",
    "    string = string.replace('\\t', '')\n",
    "    string = string.replace('\\n', '')\n",
    "    string = string.split(',')\n",
    "    d = {s: v for s, v in zip(string, lst)}\n",
    "    return d"
   ]
  },
  {
   "cell_type": "code",
   "execution_count": null,
   "metadata": {},
   "outputs": [],
   "source": [
    "for seed in {1..37}; do\n",
    "./run_secorder 1500 0.15 1.4 0.7 0.7 1 $seed\n",
    "done"
   ]
  },
  {
   "cell_type": "code",
   "execution_count": 95,
   "metadata": {},
   "outputs": [
    {
     "data": {
      "text/plain": [
       "(array([0.   , 0.025, 0.05 , 0.075, 0.1  , 0.125, 0.15 , 0.175, 0.2  ,\n",
       "        0.225]),\n",
       " array([0. , 0.1, 0.2, 0.3, 0.4, 0.5, 0.6, 0.7, 0.8, 0.9]))"
      ]
     },
     "execution_count": 95,
     "metadata": {},
     "output_type": "execute_result"
    }
   ],
   "source": [
    "tau_series,alpha_series"
   ]
  },
  {
   "cell_type": "code",
   "execution_count": 96,
   "metadata": {},
   "outputs": [
    {
     "data": {
      "text/plain": [
       "array([0.3 , 0.15])"
      ]
     },
     "execution_count": 96,
     "metadata": {},
     "output_type": "execute_result"
    }
   ],
   "source": [
    "kE, kI = 240,60\n",
    "css = np.zeros(2)\n",
    "css[0]=240/800 \n",
    "css[1]=240/1600\n",
    "css"
   ]
  },
  {
   "cell_type": "code",
   "execution_count": 100,
   "metadata": {},
   "outputs": [
    {
     "name": "stdout",
     "output_type": "stream",
     "text": [
      "144000.00000000003 153000.0\n",
      "[0.6 0.6]\n"
     ]
    }
   ],
   "source": [
    "alpha_sample=0.6\n",
    "CHNNUM = (alpha_sample+1)*c**2*N**2\n",
    "CHNNUM_ = (0.7+1)*0.2**2*1500**2\n",
    "print(CHNNUM,CHNNUM_)\n",
    "alphass = np.zeros(2)\n",
    "alphass[0] = CHNNUM/1000**2/css[0]**2-1\n",
    "alphass[1] = CHNNUM/2000**2/css[1]**2-1\n",
    "print(alphass)"
   ]
  },
  {
   "cell_type": "code",
   "execution_count": 62,
   "metadata": {},
   "outputs": [
    {
     "name": "stdout",
     "output_type": "stream",
     "text": [
      "[0.3   0.15  0.1   0.075 0.06 ]\n",
      "[0.25714286 0.10588235 0.06666667 0.04864865 0.03829787]\n",
      "[1000 2000 3000 4000 5000]\n"
     ]
    }
   ],
   "source": [
    "# # ccccs = 300/np.array([1000,1250,1500,1750,2000])###（CE+CI)/N\n",
    "# ccccs = 300/np.array([1000,2000,3000,4000,5000])###（CE+CI)/N(larger)\n",
    "# print(ccccs)\n",
    "# ### compute rhos \n",
    "# taussss = (ccccs**2*(1+0.6)-ccccs**2)/ccccs/(1-ccccs)\n",
    "# print(taussss)\n",
    "# Nssss = np.array([1000,1250,1500,1750,2000])\n",
    "# Nssss = np.array([1000,2000,3000,4000,5000])\n",
    "# print(Nssss)\n",
    "\n",
    "ccccs = 300/np.array([1000,2000,3000,4000,5000])###（CE+CI)/N(larger)\n",
    "print(ccccs)\n",
    "### compute rhos \n",
    "taussss = (ccccs**2*(1+0.6)-ccccs**2)/ccccs/(1-ccccs)\n",
    "print(taussss)\n",
    "Nssss = np.array([1000,2000,3000,4000,5000])\n",
    "print(Nssss)"
   ]
  },
  {
   "cell_type": "code",
   "execution_count": 82,
   "metadata": {},
   "outputs": [
    {
     "name": "stdout",
     "output_type": "stream",
     "text": [
      "e:\\Dropbox\\DailyWork\\Allen_project\\sonets\n",
      "[ -2.05602353  -4.11204706  -6.16807059  -8.22409413 -10.28011766]\n",
      "[0.61010975 1.2202195  1.83032925 2.44043899 3.05054874]\n"
     ]
    },
    {
     "data": {
      "text/plain": [
       "' Parameters used for all networks (reciprocal and chain)'"
      ]
     },
     "execution_count": 82,
     "metadata": {},
     "output_type": "execute_result"
    }
   ],
   "source": [
    "''' Parameters used for all networks (reciprocal and chain)'''\n",
    "\n",
    "# c [0.2      ........      ]\n",
    "# tau [0.15 ......]\n",
    "# N [1000 1250 1500 1750 2000]\n",
    "J = 1/np.sqrt(1500)*0.5\n",
    "### get the current path location and read the data file\n",
    "import os\n",
    "strr= os.getcwd()\n",
    "print(strr)\n",
    "\n",
    "c = np.ones(5)*0.2\n",
    "taus = np.array([0.15,0.15,0.15,0.15,0.15])\n",
    "# sigma2 = N*c*(1-c)*J**2\n",
    "g, gamma = 6.8, 1/4.0#1.5,1/1.# 6.8, 1/4.0#1.5,1/1.#\n",
    "ALPHAE, ALPHAI = 4/5, 1/5\n",
    "ce, ci = c,c            \n",
    "### theoretical prediction of the eigenvalues\n",
    "\n",
    "org_k = J*Nssss*(ALPHAE-g*ALPHAI)/2.0\n",
    "eigvchn_theosss = np.zeros((len(ccccs),2))\n",
    "eigvchn_theosss[:,0] = org_k*(c+np.sqrt(c**2+4*c*(1-c)*taus))\n",
    "eigvchn_theosss[:,1] = org_k*(c-np.sqrt(c**2+4*c*(1-c)*taus))\n",
    "\n",
    "print(eigvchn_theosss[:,0])\n",
    "print(eigvchn_theosss[:,1])\n",
    "\n",
    "''' Parameters used for all networks (reciprocal and chain)'''"
   ]
  }
 ],
 "metadata": {
  "kernelspec": {
   "display_name": "Python 3",
   "language": "python",
   "name": "python3"
  },
  "language_info": {
   "codemirror_mode": {
    "name": "ipython",
    "version": 3
   },
   "file_extension": ".py",
   "mimetype": "text/x-python",
   "name": "python",
   "nbconvert_exporter": "python",
   "pygments_lexer": "ipython3",
   "version": "3.11.5"
  }
 },
 "nbformat": 4,
 "nbformat_minor": 2
}
